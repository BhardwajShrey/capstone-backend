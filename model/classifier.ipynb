{
 "cells": [
  {
   "cell_type": "code",
   "execution_count": 155,
   "metadata": {},
   "outputs": [],
   "source": [
    "import pandas as pd\n",
    "\n",
    "df = pd.read_excel('../data/cleaned_v2.xlsx')\n",
    "df = df.set_index('Department')"
   ]
  },
  {
   "cell_type": "code",
   "execution_count": 156,
   "metadata": {},
   "outputs": [
    {
     "data": {
      "text/html": [
       "<div>\n",
       "<style scoped>\n",
       "    .dataframe tbody tr th:only-of-type {\n",
       "        vertical-align: middle;\n",
       "    }\n",
       "\n",
       "    .dataframe tbody tr th {\n",
       "        vertical-align: top;\n",
       "    }\n",
       "\n",
       "    .dataframe thead th {\n",
       "        text-align: right;\n",
       "    }\n",
       "</style>\n",
       "<table border=\"1\" class=\"dataframe\">\n",
       "  <thead>\n",
       "    <tr style=\"text-align: right;\">\n",
       "      <th></th>\n",
       "      <th>Description</th>\n",
       "    </tr>\n",
       "    <tr>\n",
       "      <th>Department</th>\n",
       "      <th></th>\n",
       "    </tr>\n",
       "  </thead>\n",
       "  <tbody>\n",
       "    <tr>\n",
       "      <th>Building Permission</th>\n",
       "      <td>2119</td>\n",
       "    </tr>\n",
       "    <tr>\n",
       "      <th>Drainage</th>\n",
       "      <td>2132</td>\n",
       "    </tr>\n",
       "    <tr>\n",
       "      <th>Electrical</th>\n",
       "      <td>4037</td>\n",
       "    </tr>\n",
       "    <tr>\n",
       "      <th>Encroachment</th>\n",
       "      <td>1470</td>\n",
       "    </tr>\n",
       "    <tr>\n",
       "      <th>Garbage</th>\n",
       "      <td>16932</td>\n",
       "    </tr>\n",
       "    <tr>\n",
       "      <th>Garden</th>\n",
       "      <td>1653</td>\n",
       "    </tr>\n",
       "    <tr>\n",
       "      <th>Health</th>\n",
       "      <td>2802</td>\n",
       "    </tr>\n",
       "    <tr>\n",
       "      <th>Property Tax</th>\n",
       "      <td>1491</td>\n",
       "    </tr>\n",
       "    <tr>\n",
       "      <th>Road</th>\n",
       "      <td>5510</td>\n",
       "    </tr>\n",
       "    <tr>\n",
       "      <th>Stray Dogs</th>\n",
       "      <td>1405</td>\n",
       "    </tr>\n",
       "    <tr>\n",
       "      <th>Water Supply</th>\n",
       "      <td>2992</td>\n",
       "    </tr>\n",
       "  </tbody>\n",
       "</table>\n",
       "</div>"
      ],
      "text/plain": [
       "                     Description\n",
       "Department                      \n",
       "Building Permission         2119\n",
       "Drainage                    2132\n",
       "Electrical                  4037\n",
       "Encroachment                1470\n",
       "Garbage                    16932\n",
       "Garden                      1653\n",
       "Health                      2802\n",
       "Property Tax                1491\n",
       "Road                        5510\n",
       "Stray Dogs                  1405\n",
       "Water Supply                2992"
      ]
     },
     "execution_count": 156,
     "metadata": {},
     "output_type": "execute_result"
    }
   ],
   "source": [
    "df.groupby(df.index).count()"
   ]
  },
  {
   "cell_type": "code",
   "execution_count": 157,
   "metadata": {},
   "outputs": [],
   "source": [
    "df_for_training = pd.DataFrame()\n",
    "SAMPLES = 4000\n",
    "STATE = 0"
   ]
  },
  {
   "cell_type": "code",
   "execution_count": 158,
   "metadata": {},
   "outputs": [],
   "source": [
    "for i in list(set(df.index)):\n",
    "    df_for_training = df_for_training.append(df.loc[i].sample(n=SAMPLES,random_state=STATE,replace=True))"
   ]
  },
  {
   "cell_type": "code",
   "execution_count": 159,
   "metadata": {},
   "outputs": [],
   "source": [
    "df_for_training['class_label'] = df_for_training.index.factorize()[0]"
   ]
  },
  {
   "cell_type": "code",
   "execution_count": 160,
   "metadata": {},
   "outputs": [
    {
     "data": {
      "text/html": [
       "<div>\n",
       "<style scoped>\n",
       "    .dataframe tbody tr th:only-of-type {\n",
       "        vertical-align: middle;\n",
       "    }\n",
       "\n",
       "    .dataframe tbody tr th {\n",
       "        vertical-align: top;\n",
       "    }\n",
       "\n",
       "    .dataframe thead th {\n",
       "        text-align: right;\n",
       "    }\n",
       "</style>\n",
       "<table border=\"1\" class=\"dataframe\">\n",
       "  <thead>\n",
       "    <tr style=\"text-align: right;\">\n",
       "      <th></th>\n",
       "      <th>Description</th>\n",
       "      <th>class_label</th>\n",
       "    </tr>\n",
       "    <tr>\n",
       "      <th>Department</th>\n",
       "      <th></th>\n",
       "      <th></th>\n",
       "    </tr>\n",
       "  </thead>\n",
       "  <tbody>\n",
       "    <tr>\n",
       "      <th>Property Tax</th>\n",
       "      <td>nd  May  17 To Pune Municipal Corporation Sub...</td>\n",
       "      <td>0</td>\n",
       "    </tr>\n",
       "    <tr>\n",
       "      <th>Property Tax</th>\n",
       "      <td>Avoid all Possible cyber attacks on the proper...</td>\n",
       "      <td>0</td>\n",
       "    </tr>\n",
       "    <tr>\n",
       "      <th>Property Tax</th>\n",
       "      <td>I am not getting the property tax transfer rec...</td>\n",
       "      <td>0</td>\n",
       "    </tr>\n",
       "    <tr>\n",
       "      <th>Property Tax</th>\n",
       "      <td>citizen la propety tax bill jast ala ahe......</td>\n",
       "      <td>0</td>\n",
       "    </tr>\n",
       "    <tr>\n",
       "      <th>Property Tax</th>\n",
       "      <td>last 5 year se ek hi property ke   tax bill aa...</td>\n",
       "      <td>0</td>\n",
       "    </tr>\n",
       "    <tr>\n",
       "      <th>...</th>\n",
       "      <td>...</td>\n",
       "      <td>...</td>\n",
       "    </tr>\n",
       "    <tr>\n",
       "      <th>Garbage</th>\n",
       "      <td>Garbage dump</td>\n",
       "      <td>10</td>\n",
       "    </tr>\n",
       "    <tr>\n",
       "      <th>Garbage</th>\n",
       "      <td>Garbage dump</td>\n",
       "      <td>10</td>\n",
       "    </tr>\n",
       "    <tr>\n",
       "      <th>Garbage</th>\n",
       "      <td>Garbage vehicle not arrived</td>\n",
       "      <td>10</td>\n",
       "    </tr>\n",
       "    <tr>\n",
       "      <th>Garbage</th>\n",
       "      <td>Sweeping not done</td>\n",
       "      <td>10</td>\n",
       "    </tr>\n",
       "    <tr>\n",
       "      <th>Garbage</th>\n",
       "      <td>Sweeping not done</td>\n",
       "      <td>10</td>\n",
       "    </tr>\n",
       "  </tbody>\n",
       "</table>\n",
       "<p>44000 rows × 2 columns</p>\n",
       "</div>"
      ],
      "text/plain": [
       "                                                    Description  class_label\n",
       "Department                                                                  \n",
       "Property Tax   nd  May  17 To Pune Municipal Corporation Sub...            0\n",
       "Property Tax  Avoid all Possible cyber attacks on the proper...            0\n",
       "Property Tax  I am not getting the property tax transfer rec...            0\n",
       "Property Tax     citizen la propety tax bill jast ala ahe......            0\n",
       "Property Tax  last 5 year se ek hi property ke   tax bill aa...            0\n",
       "...                                                         ...          ...\n",
       "Garbage                                            Garbage dump           10\n",
       "Garbage                                            Garbage dump           10\n",
       "Garbage                             Garbage vehicle not arrived           10\n",
       "Garbage                                       Sweeping not done           10\n",
       "Garbage                                       Sweeping not done           10\n",
       "\n",
       "[44000 rows x 2 columns]"
      ]
     },
     "execution_count": 160,
     "metadata": {},
     "output_type": "execute_result"
    }
   ],
   "source": [
    "df_for_training"
   ]
  },
  {
   "cell_type": "code",
   "execution_count": 161,
   "metadata": {},
   "outputs": [
    {
     "name": "stdout",
     "output_type": "stream",
     "text": [
      "0 Property Tax\n",
      "1 Drainage\n",
      "2 Building Permission\n",
      "3 Garden\n",
      "4 Stray Dogs\n",
      "5 Encroachment\n",
      "6 Water Supply\n",
      "7 Health\n",
      "8 Electrical\n",
      "9 Road\n",
      "10 Garbage\n"
     ]
    }
   ],
   "source": [
    "mapper = {}\n",
    "for i,j in enumerate(list(set(df_for_training.index))):\n",
    "    print(i,j)\n",
    "    mapper[i] = j"
   ]
  },
  {
   "cell_type": "code",
   "execution_count": 162,
   "metadata": {},
   "outputs": [
    {
     "name": "stderr",
     "output_type": "stream",
     "text": [
      "[nltk_data] Downloading package stopwords to\n",
      "[nltk_data]     /home/manpreet/nltk_data...\n",
      "[nltk_data]   Package stopwords is already up-to-date!\n"
     ]
    }
   ],
   "source": [
    "import nltk\n",
    "nltk.download('stopwords')\n",
    "from nltk.corpus import stopwords\n",
    "from nltk.stem import PorterStemmer\n",
    "from sklearn.feature_extraction.text import TfidfVectorizer"
   ]
  },
  {
   "cell_type": "code",
   "execution_count": 163,
   "metadata": {},
   "outputs": [],
   "source": [
    "stemmer = PorterStemmer()\n",
    "words = stopwords.words(\"english\")\n",
    "vectorizer = TfidfVectorizer(min_df= 3, stop_words=\"english\", sublinear_tf=True)"
   ]
  },
  {
   "cell_type": "code",
   "execution_count": 164,
   "metadata": {},
   "outputs": [],
   "source": [
    "X = df_for_training.copy() # Deep copy\n",
    "X.columns = ['text','label']\n",
    "X.index.name = None\n",
    "X = X.reset_index()\n",
    "X = X[['text','label']]\n",
    "X = X.sample(frac=1)"
   ]
  },
  {
   "cell_type": "code",
   "execution_count": 165,
   "metadata": {},
   "outputs": [
    {
     "data": {
      "text/html": [
       "<div>\n",
       "<style scoped>\n",
       "    .dataframe tbody tr th:only-of-type {\n",
       "        vertical-align: middle;\n",
       "    }\n",
       "\n",
       "    .dataframe tbody tr th {\n",
       "        vertical-align: top;\n",
       "    }\n",
       "\n",
       "    .dataframe thead th {\n",
       "        text-align: right;\n",
       "    }\n",
       "</style>\n",
       "<table border=\"1\" class=\"dataframe\">\n",
       "  <thead>\n",
       "    <tr style=\"text-align: right;\">\n",
       "      <th></th>\n",
       "      <th>text</th>\n",
       "      <th>label</th>\n",
       "    </tr>\n",
       "  </thead>\n",
       "  <tbody>\n",
       "    <tr>\n",
       "      <th>7895</th>\n",
       "      <td>Drainage line choked up since 4days</td>\n",
       "      <td>1</td>\n",
       "    </tr>\n",
       "    <tr>\n",
       "      <th>22045</th>\n",
       "      <td>Encroachment on footpath</td>\n",
       "      <td>5</td>\n",
       "    </tr>\n",
       "    <tr>\n",
       "      <th>10245</th>\n",
       "      <td>Respected Sir I would like to bring your kind ...</td>\n",
       "      <td>2</td>\n",
       "    </tr>\n",
       "    <tr>\n",
       "      <th>18606</th>\n",
       "      <td>I am a resident of Tingre Nagar Lane no. 9. We...</td>\n",
       "      <td>4</td>\n",
       "    </tr>\n",
       "    <tr>\n",
       "      <th>1265</th>\n",
       "      <td>jast kar akarni babat</td>\n",
       "      <td>0</td>\n",
       "    </tr>\n",
       "    <tr>\n",
       "      <th>...</th>\n",
       "      <td>...</td>\n",
       "      <td>...</td>\n",
       "    </tr>\n",
       "    <tr>\n",
       "      <th>16479</th>\n",
       "      <td>Dear Sir - There are many stray dogs coming in...</td>\n",
       "      <td>4</td>\n",
       "    </tr>\n",
       "    <tr>\n",
       "      <th>21249</th>\n",
       "      <td>road varti sandyakali stall laun aatikraman ke...</td>\n",
       "      <td>5</td>\n",
       "    </tr>\n",
       "    <tr>\n",
       "      <th>19139</th>\n",
       "      <td>There are about 15 -   stray dogs in the colon...</td>\n",
       "      <td>4</td>\n",
       "    </tr>\n",
       "    <tr>\n",
       "      <th>15616</th>\n",
       "      <td>Dry leaves etc are swept by the sweepers of th...</td>\n",
       "      <td>3</td>\n",
       "    </tr>\n",
       "    <tr>\n",
       "      <th>27190</th>\n",
       "      <td>lot of trenches dug on road for pipelines and ...</td>\n",
       "      <td>6</td>\n",
       "    </tr>\n",
       "  </tbody>\n",
       "</table>\n",
       "<p>44000 rows × 2 columns</p>\n",
       "</div>"
      ],
      "text/plain": [
       "                                                    text  label\n",
       "7895                 Drainage line choked up since 4days      1\n",
       "22045                           Encroachment on footpath      5\n",
       "10245  Respected Sir I would like to bring your kind ...      2\n",
       "18606  I am a resident of Tingre Nagar Lane no. 9. We...      4\n",
       "1265                               jast kar akarni babat      0\n",
       "...                                                  ...    ...\n",
       "16479  Dear Sir - There are many stray dogs coming in...      4\n",
       "21249  road varti sandyakali stall laun aatikraman ke...      5\n",
       "19139  There are about 15 -   stray dogs in the colon...      4\n",
       "15616  Dry leaves etc are swept by the sweepers of th...      3\n",
       "27190  lot of trenches dug on road for pipelines and ...      6\n",
       "\n",
       "[44000 rows x 2 columns]"
      ]
     },
     "execution_count": 165,
     "metadata": {},
     "output_type": "execute_result"
    }
   ],
   "source": [
    "X"
   ]
  },
  {
   "cell_type": "code",
   "execution_count": 166,
   "metadata": {},
   "outputs": [],
   "source": [
    "import re\n",
    "X['cleaned'] = X['text'].apply(lambda x: \" \".join([stemmer.stem(i) for i in re.sub(\"[^a-zA-Z]\", \" \", x).split() if i not in words]).lower())"
   ]
  },
  {
   "cell_type": "code",
   "execution_count": 167,
   "metadata": {},
   "outputs": [],
   "source": [
    "x = X['cleaned']\n",
    "y = X['label']"
   ]
  },
  {
   "cell_type": "code",
   "execution_count": 168,
   "metadata": {},
   "outputs": [],
   "source": [
    "from sklearn.pipeline import Pipeline\n",
    "from sklearn.metrics import classification_report, confusion_matrix\n",
    "from sklearn.model_selection import train_test_split"
   ]
  },
  {
   "cell_type": "code",
   "execution_count": 169,
   "metadata": {},
   "outputs": [],
   "source": [
    "X_train, X_test, y_train, y_test = train_test_split(x, y, test_size=0.20)"
   ]
  },
  {
   "cell_type": "code",
   "execution_count": 170,
   "metadata": {},
   "outputs": [],
   "source": [
    "from sklearn.feature_selection import SelectKBest, chi2\n",
    "from sklearn.ensemble import RandomForestClassifier\n",
    "from sklearn.naive_bayes import MultinomialNB\n",
    "from sklearn.linear_model import LogisticRegression\n",
    "from sklearn.svm import LinearSVC\n",
    "\n",
    "import pickle"
   ]
  },
  {
   "cell_type": "code",
   "execution_count": 215,
   "metadata": {},
   "outputs": [],
   "source": [
    "models = {\n",
    "            'RandomForest' : RandomForestClassifier(n_estimators=400,n_jobs=4),\n",
    "            'LinearSVC' : LinearSVC(),\n",
    "            'MultinomialNB' : MultinomialNB(),\n",
    "            'LogisticRegression' : LogisticRegression(max_iter=200)\n",
    "         }"
   ]
  },
  {
   "cell_type": "code",
   "execution_count": 216,
   "metadata": {},
   "outputs": [],
   "source": [
    "Y_test = np.array(y_test)"
   ]
  },
  {
   "cell_type": "code",
   "execution_count": 217,
   "metadata": {
    "scrolled": false
   },
   "outputs": [
    {
     "name": "stdout",
     "output_type": "stream",
     "text": [
      "RandomForest\n",
      "[[822   0   6   0   0   1   0   0   0   0   0]\n",
      " [  4 704   3   1   0   1   7  23   0  19  11]\n",
      " [  5   2 737   1   0  16   2   8   2   7   0]\n",
      " [  8   2   1 795   0   3   0   5   0   3   7]\n",
      " [  3   0   0   1 757   0   0   0   1   0   1]\n",
      " [ 18   1   9   0   0 754   0   2   0   9   3]\n",
      " [ 10   7   2   0   1   0 751   2   1   9   0]\n",
      " [  5  38   9   4   4   3   7 677   3  11  69]\n",
      " [  7   1   1   4   0   2   3   1 796   3   1]\n",
      " [ 11  32  10  12   1   7   7   8  10 684   9]\n",
      " [  4   3   3  16   6   4   5  38   4  10 719]]\n",
      "              precision    recall  f1-score   support\n",
      "\n",
      "           0       0.92      0.99      0.95       829\n",
      "           1       0.89      0.91      0.90       773\n",
      "           2       0.94      0.94      0.94       780\n",
      "           3       0.95      0.96      0.96       824\n",
      "           4       0.98      0.99      0.99       763\n",
      "           5       0.95      0.95      0.95       796\n",
      "           6       0.96      0.96      0.96       783\n",
      "           7       0.89      0.82      0.85       830\n",
      "           8       0.97      0.97      0.97       819\n",
      "           9       0.91      0.86      0.88       791\n",
      "          10       0.88      0.89      0.88       812\n",
      "\n",
      "    accuracy                           0.93      8800\n",
      "   macro avg       0.93      0.93      0.93      8800\n",
      "weighted avg       0.93      0.93      0.93      8800\n",
      "\n",
      "LinearSVC\n",
      "[[805   0  10   4   0   2   3   0   0   5   0]\n",
      " [  6 660   5   2   0   2  13  29   0  39  17]\n",
      " [ 17   6 672   4   0  54   5   9   1  10   2]\n",
      " [ 13   3   9 754   1   7   6   7   7  12   5]\n",
      " [  5   0   2   1 726   3   0  11   9   4   2]\n",
      " [ 18   3  56   2   0 682   1   4   3  19   8]\n",
      " [ 16   3   5   1   0   4 727   3   1  23   0]\n",
      " [  7  59  17  13  19   8  17 571   5  24  90]\n",
      " [  6   2   5   2   2   1   4   3 783  10   1]\n",
      " [  7  41  15   7   0  12  11   5  15 672   6]\n",
      " [  2   5   2  13   2   8   5  44   2   7 722]]\n",
      "              precision    recall  f1-score   support\n",
      "\n",
      "           0       0.89      0.97      0.93       829\n",
      "           1       0.84      0.85      0.85       773\n",
      "           2       0.84      0.86      0.85       780\n",
      "           3       0.94      0.92      0.93       824\n",
      "           4       0.97      0.95      0.96       763\n",
      "           5       0.87      0.86      0.86       796\n",
      "           6       0.92      0.93      0.92       783\n",
      "           7       0.83      0.69      0.75       830\n",
      "           8       0.95      0.96      0.95       819\n",
      "           9       0.81      0.85      0.83       791\n",
      "          10       0.85      0.89      0.87       812\n",
      "\n",
      "    accuracy                           0.88      8800\n",
      "   macro avg       0.88      0.88      0.88      8800\n",
      "weighted avg       0.88      0.88      0.88      8800\n",
      "\n",
      "MultinomialNB\n",
      "[[779   4  15   2  18   1   3   0   4   3   0]\n",
      " [  1 626  10   1   5   2  19  37   0  57  15]\n",
      " [ 20   8 629   4  12  72   9  13   1  12   0]\n",
      " [  4  12  15 706  16   8   5  21  15  15   7]\n",
      " [  2   0   3   4 725   0   4  11  10   3   1]\n",
      " [  4   5  56   1  30 662   3   5   5  18   7]\n",
      " [ 14  12   9   1   8   5 694   8   2  30   0]\n",
      " [  3  79  25  11  32  11  16 553   5  20  75]\n",
      " [  2   2   3   6  13   3   7   0 777   5   1]\n",
      " [  7  48  22  13  11  28   8  11  13 624   6]\n",
      " [  0   7   4  15   9  11   6  93   3   8 656]]\n",
      "              precision    recall  f1-score   support\n",
      "\n",
      "           0       0.93      0.94      0.94       829\n",
      "           1       0.78      0.81      0.79       773\n",
      "           2       0.80      0.81      0.80       780\n",
      "           3       0.92      0.86      0.89       824\n",
      "           4       0.82      0.95      0.88       763\n",
      "           5       0.82      0.83      0.83       796\n",
      "           6       0.90      0.89      0.89       783\n",
      "           7       0.74      0.67      0.70       830\n",
      "           8       0.93      0.95      0.94       819\n",
      "           9       0.78      0.79      0.79       791\n",
      "          10       0.85      0.81      0.83       812\n",
      "\n",
      "    accuracy                           0.84      8800\n",
      "   macro avg       0.84      0.84      0.84      8800\n",
      "weighted avg       0.84      0.84      0.84      8800\n",
      "\n",
      "LogisticRegression\n",
      "[[801   0  12   5   0   3   3   2   0   3   0]\n",
      " [  5 643   3   1   0   2  19  39   0  49  12]\n",
      " [ 19   3 667   6   0  53   4  11   4  13   0]\n",
      " [ 12   0   8 738   2   6   6  16  13  19   4]\n",
      " [  6   0   2   2 720   2   0  15   9   5   2]\n",
      " [ 20   2  62   3   3 665   2   3   3  25   8]\n",
      " [ 17   3   5   1   0   4 721   5   1  26   0]\n",
      " [  6  55  22  16  17   7  13 584   2  29  79]\n",
      " [  7   2   5   3   1   2   3   5 777  13   1]\n",
      " [  9  38  22  11   0  14  10   9   9 664   5]\n",
      " [  2   4   2  12   1   8   4  71   2  10 696]]\n",
      "              precision    recall  f1-score   support\n",
      "\n",
      "           0       0.89      0.97      0.92       829\n",
      "           1       0.86      0.83      0.84       773\n",
      "           2       0.82      0.86      0.84       780\n",
      "           3       0.92      0.90      0.91       824\n",
      "           4       0.97      0.94      0.96       763\n",
      "           5       0.87      0.84      0.85       796\n",
      "           6       0.92      0.92      0.92       783\n",
      "           7       0.77      0.70      0.73       830\n",
      "           8       0.95      0.95      0.95       819\n",
      "           9       0.78      0.84      0.81       791\n",
      "          10       0.86      0.86      0.86       812\n",
      "\n",
      "    accuracy                           0.87      8800\n",
      "   macro avg       0.87      0.87      0.87      8800\n",
      "weighted avg       0.87      0.87      0.87      8800\n",
      "\n"
     ]
    }
   ],
   "source": [
    "accuracies = {}\n",
    "for model_name in list(models.keys()):\n",
    "    pipeline = Pipeline([('vect', vectorizer),\n",
    "                         ('chi',  SelectKBest(chi2, k=1000)),\n",
    "                         ('clf', models[model_name])])\n",
    "\n",
    "    model = pipeline.fit(X_train, y_train)\n",
    "    with open(f'{model_name}.pickle', 'wb') as f:\n",
    "        pickle.dump(model, f)\n",
    "\n",
    "\n",
    "    print(model_name)\n",
    "    print(confusion_matrix(Y_test, model.predict(X_test)))\n",
    "    print(classification_report(Y_test, model.predict(X_test)))\n",
    "    #print(\"Accuracy score: \",\"{:.2f}\".format(model.score(X_test, Y_test) * 100))\n",
    "    accuracies[model_name] = \"{:.2f}\".format(model.score(X_test, Y_test) * 100)"
   ]
  },
  {
   "cell_type": "code",
   "execution_count": 218,
   "metadata": {},
   "outputs": [
    {
     "data": {
      "text/plain": [
       "{0: 'Property Tax',\n",
       " 1: 'Drainage',\n",
       " 2: 'Building Permission',\n",
       " 3: 'Garden',\n",
       " 4: 'Stray Dogs',\n",
       " 5: 'Encroachment',\n",
       " 6: 'Water Supply',\n",
       " 7: 'Health',\n",
       " 8: 'Electrical',\n",
       " 9: 'Road',\n",
       " 10: 'Garbage'}"
      ]
     },
     "execution_count": 218,
     "metadata": {},
     "output_type": "execute_result"
    }
   ],
   "source": [
    "mapper"
   ]
  },
  {
   "cell_type": "code",
   "execution_count": 219,
   "metadata": {},
   "outputs": [
    {
     "data": {
      "text/plain": [
       "{'RandomForest': '93.14',\n",
       " 'LinearSVC': '88.34',\n",
       " 'MultinomialNB': '84.44',\n",
       " 'LogisticRegression': '87.23'}"
      ]
     },
     "execution_count": 219,
     "metadata": {},
     "output_type": "execute_result"
    }
   ],
   "source": [
    "accuracies"
   ]
  },
  {
   "cell_type": "code",
   "execution_count": 220,
   "metadata": {},
   "outputs": [],
   "source": [
    "pipelines = {}\n",
    "for model_name in list(models.keys()):\n",
    "    pipelines[model_name] = Pipeline([('vect', vectorizer),\n",
    "                         ('chi',  SelectKBest(chi2, k=1000)),\n",
    "                         ('clf', models[model_name])])"
   ]
  },
  {
   "cell_type": "code",
   "execution_count": 231,
   "metadata": {},
   "outputs": [],
   "source": [
    "from sklearn.model_selection import cross_val_score\n",
    "CV = 5\n",
    "cv_df = pd.DataFrame(index=range(CV * len(models)))\n",
    "entries = []\n",
    "for model_name, model in pipelines.items():\n",
    "    accuracies = cross_val_score(model, x, y, scoring='accuracy', cv=CV)\n",
    "    for fold_idx, accuracy in enumerate(accuracies):\n",
    "        entries.append((model_name, fold_idx, accuracy))\n",
    "cv_df = pd.DataFrame(entries, columns=['Model Name', 'fold_idx', 'Accuracy'])"
   ]
  },
  {
   "cell_type": "code",
   "execution_count": 236,
   "metadata": {},
   "outputs": [
    {
     "data": {
      "image/png": "[encoded data removed]",
      "text/plain": [
       "<Figure size 432x216 with 1 Axes>"
      ]
     },
     "metadata": {
      "needs_background": "light"
     },
     "output_type": "display_data"
    }
   ],
   "source": [
    "import seaborn as sns\n",
    "import matplotlib.pyplot as plt\n",
    "\n",
    "plt.figure(figsize=(6,3))\n",
    "sns.stripplot(x='Model Name', y='Accuracy', data=cv_df, \n",
    "              size=8, jitter=True, edgecolor=\"gray\", linewidth=2)\n",
    "plt.show()"
   ]
  },
  {
   "cell_type": "code",
   "execution_count": null,
   "metadata": {},
   "outputs": [],
   "source": []
  }
 ],
 "metadata": {
  "kernelspec": {
   "display_name": "Python 3",
   "language": "python",
   "name": "python3"
  },
  "language_info": {
   "codemirror_mode": {
    "name": "ipython",
    "version": 3
   },
   "file_extension": ".py",
   "mimetype": "text/x-python",
   "name": "python",
   "nbconvert_exporter": "python",
   "pygments_lexer": "ipython3",
   "version": "3.8.5"
  }
 },
 "nbformat": 4,
 "nbformat_minor": 4
}
