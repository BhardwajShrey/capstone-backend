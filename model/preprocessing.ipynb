{
 "cells": [
  {
   "cell_type": "code",
   "execution_count": 1,
   "metadata": {},
   "outputs": [],
   "source": [
    "import pandas as pd"
   ]
  },
  {
   "cell_type": "code",
   "execution_count": 3,
   "metadata": {},
   "outputs": [],
   "source": [
    "df = pd.read_excel('../data/Cleaned.xlsx')"
   ]
  },
  {
   "cell_type": "code",
   "execution_count": 5,
   "metadata": {},
   "outputs": [
    {
     "data": {
      "text/html": [
       "<div>\n",
       "<style scoped>\n",
       "    .dataframe tbody tr th:only-of-type {\n",
       "        vertical-align: middle;\n",
       "    }\n",
       "\n",
       "    .dataframe tbody tr th {\n",
       "        vertical-align: top;\n",
       "    }\n",
       "\n",
       "    .dataframe thead th {\n",
       "        text-align: right;\n",
       "    }\n",
       "</style>\n",
       "<table border=\"1\" class=\"dataframe\">\n",
       "  <thead>\n",
       "    <tr style=\"text-align: right;\">\n",
       "      <th></th>\n",
       "      <th>Unnamed: 0</th>\n",
       "      <th>Department</th>\n",
       "      <th>Subdepartment</th>\n",
       "      <th>Description</th>\n",
       "    </tr>\n",
       "  </thead>\n",
       "  <tbody>\n",
       "    <tr>\n",
       "      <th>0</th>\n",
       "      <td>0</td>\n",
       "      <td>Encroachment</td>\n",
       "      <td>Noise Pollution</td>\n",
       "      <td>Topkapi in seasons mall is playing music on lo...</td>\n",
       "    </tr>\n",
       "    <tr>\n",
       "      <th>1</th>\n",
       "      <td>1</td>\n",
       "      <td>Drainage</td>\n",
       "      <td>Overflowing drains or manholes</td>\n",
       "      <td>Dranage over flow freqently</td>\n",
       "    </tr>\n",
       "    <tr>\n",
       "      <th>2</th>\n",
       "      <td>2</td>\n",
       "      <td>Electrical</td>\n",
       "      <td>Making street light functional</td>\n",
       "      <td>Street light is not working</td>\n",
       "    </tr>\n",
       "    <tr>\n",
       "      <th>3</th>\n",
       "      <td>3</td>\n",
       "      <td>Traffic-Planning</td>\n",
       "      <td>Other</td>\n",
       "      <td>Please repair road at kpndwa flyover kondhwa pune</td>\n",
       "    </tr>\n",
       "    <tr>\n",
       "      <th>4</th>\n",
       "      <td>4</td>\n",
       "      <td>Electrical</td>\n",
       "      <td>Making street light functional</td>\n",
       "      <td>Please make street light functional at Divya n...</td>\n",
       "    </tr>\n",
       "  </tbody>\n",
       "</table>\n",
       "</div>"
      ],
      "text/plain": [
       "   Unnamed: 0        Department                   Subdepartment  \\\n",
       "0           0      Encroachment                 Noise Pollution   \n",
       "1           1          Drainage  Overflowing drains or manholes   \n",
       "2           2        Electrical  Making street light functional   \n",
       "3           3  Traffic-Planning                           Other   \n",
       "4           4        Electrical  Making street light functional   \n",
       "\n",
       "                                         Description  \n",
       "0  Topkapi in seasons mall is playing music on lo...  \n",
       "1                        Dranage over flow freqently  \n",
       "2                        Street light is not working  \n",
       "3  Please repair road at kpndwa flyover kondhwa pune  \n",
       "4  Please make street light functional at Divya n...  "
      ]
     },
     "execution_count": 5,
     "metadata": {},
     "output_type": "execute_result"
    }
   ],
   "source": [
    "df.head()"
   ]
  },
  {
   "cell_type": "code",
   "execution_count": 6,
   "metadata": {},
   "outputs": [],
   "source": [
    "cols = ['Department', 'Description']"
   ]
  },
  {
   "cell_type": "code",
   "execution_count": 7,
   "metadata": {},
   "outputs": [],
   "source": [
    "df = df[cols]"
   ]
  },
  {
   "cell_type": "code",
   "execution_count": 42,
   "metadata": {},
   "outputs": [],
   "source": [
    "counts = df.groupby('Department').count()"
   ]
  },
  {
   "cell_type": "code",
   "execution_count": 43,
   "metadata": {},
   "outputs": [],
   "source": [
    "depts = [counts.loc[i].name for i in counts.index if counts.loc[i].Description > 1000]    "
   ]
  },
  {
   "cell_type": "code",
   "execution_count": 44,
   "metadata": {},
   "outputs": [
    {
     "data": {
      "text/plain": [
       "['Building Permission',\n",
       " 'Drainage',\n",
       " 'Electrical',\n",
       " 'Encroachment',\n",
       " 'Garbage (SWM)',\n",
       " 'Garden',\n",
       " 'Health',\n",
       " 'Health Kitak',\n",
       " 'Property Tax',\n",
       " 'Road',\n",
       " 'Road Project(H.O)',\n",
       " 'Stray Dogs',\n",
       " 'Water Supply']"
      ]
     },
     "execution_count": 44,
     "metadata": {},
     "output_type": "execute_result"
    }
   ],
   "source": [
    "depts"
   ]
  },
  {
   "cell_type": "code",
   "execution_count": 61,
   "metadata": {},
   "outputs": [],
   "source": [
    "df = df[df['Department'].isin(depts)]"
   ]
  },
  {
   "cell_type": "code",
   "execution_count": 62,
   "metadata": {},
   "outputs": [],
   "source": [
    "final_df = df.set_index('Department')\n",
    "mapper = {\n",
    " 'Building Permission':'BP',\n",
    " 'Drainage' : 'DR',\n",
    " 'Electrical' : 'EE',\n",
    " 'Encroachment' : 'ER',\n",
    " 'Garbage (SWM)' : 'GB',\n",
    " 'Garden' : 'GD',\n",
    " 'Health' : 'HT',\n",
    " 'Health Kitak' : 'HT',\n",
    " 'Property Tax' : 'PT',\n",
    " 'Road' : 'RR',\n",
    " 'Road Project(H.O)' : 'RR',\n",
    " 'Stray Dogs' : 'SD',\n",
    " 'Water Supply' : 'WS'\n",
    "}"
   ]
  },
  {
   "cell_type": "code",
   "execution_count": 68,
   "metadata": {},
   "outputs": [],
   "source": [
    "final_df = final_df.rename(mapper=mapper)"
   ]
  },
  {
   "cell_type": "code",
   "execution_count": 69,
   "metadata": {},
   "outputs": [],
   "source": [
    "final_counts = final_df.groupby('Department').count()\n",
    "\n",
    "final_counts.plot(kind='bar')"
   ]
  },
  {
   "cell_type": "code",
   "execution_count": 73,
   "metadata": {},
   "outputs": [
    {
     "data": {
      "text/plain": [
       "Description    3999\n",
       "dtype: int64"
      ]
     },
     "execution_count": 73,
     "metadata": {},
     "output_type": "execute_result"
    }
   ],
   "source": [
    "final_df.loc['GB'].nunique()"
   ]
  },
  {
   "cell_type": "code",
   "execution_count": 74,
   "metadata": {},
   "outputs": [],
   "source": [
    "mapper_reverse = {\n",
    " 'BP' : 'Building Permission',\n",
    " 'DR' : 'Drainage',\n",
    " 'EE' : 'Electrical',\n",
    " 'ER' : 'Encroachment',\n",
    " 'GB' : 'Garbage',\n",
    " 'GD' : 'Garden',\n",
    " 'HT' : 'Health',\n",
    " 'PT' : 'Property Tax',\n",
    " 'RR' : 'Road',\n",
    " 'SD' : 'Stray Dogs',\n",
    " 'WS' : 'Water Supply'\n",
    "}"
   ]
  },
  {
   "cell_type": "code",
   "execution_count": 75,
   "metadata": {},
   "outputs": [],
   "source": [
    "final_df = final_df.rename(mapper=mapper_reverse)"
   ]
  },
  {
   "cell_type": "code",
   "execution_count": 76,
   "metadata": {},
   "outputs": [
    {
     "data": {
      "text/html": [
       "<div>\n",
       "<style scoped>\n",
       "    .dataframe tbody tr th:only-of-type {\n",
       "        vertical-align: middle;\n",
       "    }\n",
       "\n",
       "    .dataframe tbody tr th {\n",
       "        vertical-align: top;\n",
       "    }\n",
       "\n",
       "    .dataframe thead th {\n",
       "        text-align: right;\n",
       "    }\n",
       "</style>\n",
       "<table border=\"1\" class=\"dataframe\">\n",
       "  <thead>\n",
       "    <tr style=\"text-align: right;\">\n",
       "      <th></th>\n",
       "      <th>Description</th>\n",
       "    </tr>\n",
       "    <tr>\n",
       "      <th>Department</th>\n",
       "      <th></th>\n",
       "    </tr>\n",
       "  </thead>\n",
       "  <tbody>\n",
       "    <tr>\n",
       "      <th>Encroachment</th>\n",
       "      <td>Topkapi in seasons mall is playing music on lo...</td>\n",
       "    </tr>\n",
       "    <tr>\n",
       "      <th>Drainage</th>\n",
       "      <td>Dranage over flow freqently</td>\n",
       "    </tr>\n",
       "    <tr>\n",
       "      <th>Electrical</th>\n",
       "      <td>Street light is not working</td>\n",
       "    </tr>\n",
       "    <tr>\n",
       "      <th>Electrical</th>\n",
       "      <td>Please make street light functional at Divya n...</td>\n",
       "    </tr>\n",
       "    <tr>\n",
       "      <th>Garden</th>\n",
       "      <td>The branches of these trees cause obstruction ...</td>\n",
       "    </tr>\n",
       "    <tr>\n",
       "      <th>...</th>\n",
       "      <td>...</td>\n",
       "    </tr>\n",
       "    <tr>\n",
       "      <th>Road</th>\n",
       "      <td>The footpath are either broken or have dirt al...</td>\n",
       "    </tr>\n",
       "    <tr>\n",
       "      <th>Building Permission</th>\n",
       "      <td>no pramission building contraction</td>\n",
       "    </tr>\n",
       "    <tr>\n",
       "      <th>Stray Dogs</th>\n",
       "      <td>There are many stray dogs near by our apartmen...</td>\n",
       "    </tr>\n",
       "    <tr>\n",
       "      <th>Road</th>\n",
       "      <td>drainage line cover in front of Mayur Kilbil s...</td>\n",
       "    </tr>\n",
       "    <tr>\n",
       "      <th>Road</th>\n",
       "      <td>Repair/re-sufacing of roads/footpaths</td>\n",
       "    </tr>\n",
       "  </tbody>\n",
       "</table>\n",
       "<p>42543 rows × 1 columns</p>\n",
       "</div>"
      ],
      "text/plain": [
       "                                                           Description\n",
       "Department                                                            \n",
       "Encroachment         Topkapi in seasons mall is playing music on lo...\n",
       "Drainage                                   Dranage over flow freqently\n",
       "Electrical                                 Street light is not working\n",
       "Electrical           Please make street light functional at Divya n...\n",
       "Garden               The branches of these trees cause obstruction ...\n",
       "...                                                                ...\n",
       "Road                 The footpath are either broken or have dirt al...\n",
       "Building Permission                 no pramission building contraction\n",
       "Stray Dogs           There are many stray dogs near by our apartmen...\n",
       "Road                 drainage line cover in front of Mayur Kilbil s...\n",
       "Road                             Repair/re-sufacing of roads/footpaths\n",
       "\n",
       "[42543 rows x 1 columns]"
      ]
     },
     "execution_count": 76,
     "metadata": {},
     "output_type": "execute_result"
    }
   ],
   "source": [
    "final_df"
   ]
  },
  {
   "cell_type": "code",
   "execution_count": 77,
   "metadata": {},
   "outputs": [
    {
     "data": {
      "text/plain": [
       "<matplotlib.axes._subplots.AxesSubplot at 0x7f4267643ca0>"
      ]
     },
     "execution_count": 77,
     "metadata": {},
     "output_type": "execute_result"
    },
    {
     "data": {
      "image/png": "[encoded data removed]",
      "text/plain": [
       "<Figure size 432x288 with 1 Axes>"
      ]
     },
     "metadata": {
      "needs_background": "light"
     },
     "output_type": "display_data"
    }
   ],
   "source": [
    "final_counts = final_df.groupby('Department').count()\n",
    "\n",
    "final_counts.plot(kind='bar')"
   ]
  },
  {
   "cell_type": "code",
   "execution_count": 85,
   "metadata": {},
   "outputs": [],
   "source": [
    "final_df.to_excel('../data/cleaned_v2.xlsx')"
   ]
  },
  {
   "cell_type": "code",
   "execution_count": null,
   "metadata": {},
   "outputs": [],
   "source": []
  }
 ],
 "metadata": {
  "kernelspec": {
   "display_name": "Python 3",
   "language": "python",
   "name": "python3"
  },
  "language_info": {
   "codemirror_mode": {
    "name": "ipython",
    "version": 3
   },
   "file_extension": ".py",
   "mimetype": "text/x-python",
   "name": "python",
   "nbconvert_exporter": "python",
   "pygments_lexer": "ipython3",
   "version": "3.8.5"
  }
 },
 "nbformat": 4,
 "nbformat_minor": 4
}
