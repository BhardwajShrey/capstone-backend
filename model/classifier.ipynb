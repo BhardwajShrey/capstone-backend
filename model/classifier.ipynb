{
 "cells": [
  {
   "cell_type": "code",
   "execution_count": 22,
   "metadata": {},
   "outputs": [],
   "source": [
    "import pandas as pd\n",
    "\n",
    "df = pd.read_excel('../data/cleaned_v2.xlsx')\n",
    "df = df.set_index('Department')"
   ]
  },
  {
   "cell_type": "code",
   "execution_count": 25,
   "metadata": {},
   "outputs": [
    {
     "data": {
      "text/html": [
       "<div>\n",
       "<style scoped>\n",
       "    .dataframe tbody tr th:only-of-type {\n",
       "        vertical-align: middle;\n",
       "    }\n",
       "\n",
       "    .dataframe tbody tr th {\n",
       "        vertical-align: top;\n",
       "    }\n",
       "\n",
       "    .dataframe thead th {\n",
       "        text-align: right;\n",
       "    }\n",
       "</style>\n",
       "<table border=\"1\" class=\"dataframe\">\n",
       "  <thead>\n",
       "    <tr style=\"text-align: right;\">\n",
       "      <th></th>\n",
       "      <th>Description</th>\n",
       "    </tr>\n",
       "    <tr>\n",
       "      <th>Department</th>\n",
       "      <th></th>\n",
       "    </tr>\n",
       "  </thead>\n",
       "  <tbody>\n",
       "    <tr>\n",
       "      <th>Building Permission</th>\n",
       "      <td>2119</td>\n",
       "    </tr>\n",
       "    <tr>\n",
       "      <th>Drainage</th>\n",
       "      <td>2132</td>\n",
       "    </tr>\n",
       "    <tr>\n",
       "      <th>Electrical</th>\n",
       "      <td>4037</td>\n",
       "    </tr>\n",
       "    <tr>\n",
       "      <th>Encroachment</th>\n",
       "      <td>1470</td>\n",
       "    </tr>\n",
       "    <tr>\n",
       "      <th>Garbage</th>\n",
       "      <td>16932</td>\n",
       "    </tr>\n",
       "    <tr>\n",
       "      <th>Garden</th>\n",
       "      <td>1653</td>\n",
       "    </tr>\n",
       "    <tr>\n",
       "      <th>Health</th>\n",
       "      <td>2802</td>\n",
       "    </tr>\n",
       "    <tr>\n",
       "      <th>Property Tax</th>\n",
       "      <td>1491</td>\n",
       "    </tr>\n",
       "    <tr>\n",
       "      <th>Road</th>\n",
       "      <td>5510</td>\n",
       "    </tr>\n",
       "    <tr>\n",
       "      <th>Stray Dogs</th>\n",
       "      <td>1405</td>\n",
       "    </tr>\n",
       "    <tr>\n",
       "      <th>Water Supply</th>\n",
       "      <td>2992</td>\n",
       "    </tr>\n",
       "  </tbody>\n",
       "</table>\n",
       "</div>"
      ],
      "text/plain": [
       "                     Description\n",
       "Department                      \n",
       "Building Permission         2119\n",
       "Drainage                    2132\n",
       "Electrical                  4037\n",
       "Encroachment                1470\n",
       "Garbage                    16932\n",
       "Garden                      1653\n",
       "Health                      2802\n",
       "Property Tax                1491\n",
       "Road                        5510\n",
       "Stray Dogs                  1405\n",
       "Water Supply                2992"
      ]
     },
     "execution_count": 25,
     "metadata": {},
     "output_type": "execute_result"
    }
   ],
   "source": [
    "df.groupby(df.index).count()"
   ]
  },
  {
   "cell_type": "code",
   "execution_count": 100,
   "metadata": {},
   "outputs": [],
   "source": [
    "df_for_training = pd.DataFrame()\n",
    "SAMPLES = 1400\n",
    "STATE = 2"
   ]
  },
  {
   "cell_type": "code",
   "execution_count": 101,
   "metadata": {},
   "outputs": [],
   "source": [
    "for i in list(set(df.index)):\n",
    "    df_for_training = df_for_training.append(df.loc[i].sample(n=SAMPLES,random_state=STATE))"
   ]
  },
  {
   "cell_type": "code",
   "execution_count": 102,
   "metadata": {},
   "outputs": [],
   "source": [
    "df_for_training['class_label'] = df_for_training.index.factorize()[0]"
   ]
  },
  {
   "cell_type": "code",
   "execution_count": 103,
   "metadata": {},
   "outputs": [
    {
     "data": {
      "text/html": [
       "<div>\n",
       "<style scoped>\n",
       "    .dataframe tbody tr th:only-of-type {\n",
       "        vertical-align: middle;\n",
       "    }\n",
       "\n",
       "    .dataframe tbody tr th {\n",
       "        vertical-align: top;\n",
       "    }\n",
       "\n",
       "    .dataframe thead th {\n",
       "        text-align: right;\n",
       "    }\n",
       "</style>\n",
       "<table border=\"1\" class=\"dataframe\">\n",
       "  <thead>\n",
       "    <tr style=\"text-align: right;\">\n",
       "      <th></th>\n",
       "      <th>Description</th>\n",
       "      <th>class_label</th>\n",
       "    </tr>\n",
       "    <tr>\n",
       "      <th>Department</th>\n",
       "      <th></th>\n",
       "      <th></th>\n",
       "    </tr>\n",
       "  </thead>\n",
       "  <tbody>\n",
       "    <tr>\n",
       "      <th>Property Tax</th>\n",
       "      <td>There are total 4 preprimary schools / Day car...</td>\n",
       "      <td>0</td>\n",
       "    </tr>\n",
       "    <tr>\n",
       "      <th>Property Tax</th>\n",
       "      <td>As 15 working days complete to submitted docum...</td>\n",
       "      <td>0</td>\n",
       "    </tr>\n",
       "    <tr>\n",
       "      <th>Property Tax</th>\n",
       "      <td>Both the flats are on same floor. Then why the...</td>\n",
       "      <td>0</td>\n",
       "    </tr>\n",
       "    <tr>\n",
       "      <th>Property Tax</th>\n",
       "      <td>FLAT NO CORRECTION</td>\n",
       "      <td>0</td>\n",
       "    </tr>\n",
       "    <tr>\n",
       "      <th>Property Tax</th>\n",
       "      <td>SEVERAL EMAILS SEND  / NOT ONE REPLY  / V POOR...</td>\n",
       "      <td>0</td>\n",
       "    </tr>\n",
       "    <tr>\n",
       "      <th>...</th>\n",
       "      <td>...</td>\n",
       "      <td>...</td>\n",
       "    </tr>\n",
       "    <tr>\n",
       "      <th>Garbage</th>\n",
       "      <td>Pigs Lying opposite the society premises all d...</td>\n",
       "      <td>10</td>\n",
       "    </tr>\n",
       "    <tr>\n",
       "      <th>Garbage</th>\n",
       "      <td>Sweeping not done</td>\n",
       "      <td>10</td>\n",
       "    </tr>\n",
       "    <tr>\n",
       "      <th>Garbage</th>\n",
       "      <td>Garbage dump</td>\n",
       "      <td>10</td>\n",
       "    </tr>\n",
       "    <tr>\n",
       "      <th>Garbage</th>\n",
       "      <td>Public toilet(s) cleaning</td>\n",
       "      <td>10</td>\n",
       "    </tr>\n",
       "    <tr>\n",
       "      <th>Garbage</th>\n",
       "      <td>Sweeping not done</td>\n",
       "      <td>10</td>\n",
       "    </tr>\n",
       "  </tbody>\n",
       "</table>\n",
       "<p>15400 rows × 2 columns</p>\n",
       "</div>"
      ],
      "text/plain": [
       "                                                    Description  class_label\n",
       "Department                                                                  \n",
       "Property Tax  There are total 4 preprimary schools / Day car...            0\n",
       "Property Tax  As 15 working days complete to submitted docum...            0\n",
       "Property Tax  Both the flats are on same floor. Then why the...            0\n",
       "Property Tax                                 FLAT NO CORRECTION            0\n",
       "Property Tax  SEVERAL EMAILS SEND  / NOT ONE REPLY  / V POOR...            0\n",
       "...                                                         ...          ...\n",
       "Garbage       Pigs Lying opposite the society premises all d...           10\n",
       "Garbage                                       Sweeping not done           10\n",
       "Garbage                                            Garbage dump           10\n",
       "Garbage                               Public toilet(s) cleaning           10\n",
       "Garbage                                       Sweeping not done           10\n",
       "\n",
       "[15400 rows x 2 columns]"
      ]
     },
     "execution_count": 103,
     "metadata": {},
     "output_type": "execute_result"
    }
   ],
   "source": [
    "df_for_training"
   ]
  },
  {
   "cell_type": "code",
   "execution_count": 104,
   "metadata": {},
   "outputs": [
    {
     "name": "stdout",
     "output_type": "stream",
     "text": [
      "0 Property Tax\n",
      "1 Drainage\n",
      "2 Building Permission\n",
      "3 Garden\n",
      "4 Stray Dogs\n",
      "5 Encroachment\n",
      "6 Water Supply\n",
      "7 Health\n",
      "8 Electrical\n",
      "9 Road\n",
      "10 Garbage\n"
     ]
    }
   ],
   "source": [
    "mapper = {}\n",
    "for i,j in enumerate(list(set(df_for_training.index))):\n",
    "    print(i,j)\n",
    "    mapper[i] = j"
   ]
  },
  {
   "cell_type": "code",
   "execution_count": 105,
   "metadata": {},
   "outputs": [
    {
     "name": "stderr",
     "output_type": "stream",
     "text": [
      "[nltk_data] Downloading package stopwords to\n",
      "[nltk_data]     /home/manpreet/nltk_data...\n",
      "[nltk_data]   Package stopwords is already up-to-date!\n"
     ]
    }
   ],
   "source": [
    "import nltk\n",
    "nltk.download('stopwords')\n",
    "from nltk.corpus import stopwords\n",
    "from nltk.stem import PorterStemmer\n",
    "from sklearn.feature_extraction.text import TfidfVectorizer"
   ]
  },
  {
   "cell_type": "code",
   "execution_count": 106,
   "metadata": {},
   "outputs": [],
   "source": [
    "stemmer = PorterStemmer()\n",
    "words = stopwords.words(\"english\")\n",
    "vectorizer = TfidfVectorizer(min_df= 3, stop_words=\"english\", sublinear_tf=True)"
   ]
  },
  {
   "cell_type": "code",
   "execution_count": 107,
   "metadata": {},
   "outputs": [],
   "source": [
    "X = df_for_training.copy() # Deep copy\n",
    "X.columns = ['text','label']\n",
    "X.index.name = None\n",
    "X = X.reset_index()\n",
    "X = X[['text','label']]\n",
    "X = X.sample(frac=1)"
   ]
  },
  {
   "cell_type": "code",
   "execution_count": 108,
   "metadata": {},
   "outputs": [
    {
     "data": {
      "text/html": [
       "<div>\n",
       "<style scoped>\n",
       "    .dataframe tbody tr th:only-of-type {\n",
       "        vertical-align: middle;\n",
       "    }\n",
       "\n",
       "    .dataframe tbody tr th {\n",
       "        vertical-align: top;\n",
       "    }\n",
       "\n",
       "    .dataframe thead th {\n",
       "        text-align: right;\n",
       "    }\n",
       "</style>\n",
       "<table border=\"1\" class=\"dataframe\">\n",
       "  <thead>\n",
       "    <tr style=\"text-align: right;\">\n",
       "      <th></th>\n",
       "      <th>text</th>\n",
       "      <th>label</th>\n",
       "    </tr>\n",
       "  </thead>\n",
       "  <tbody>\n",
       "    <tr>\n",
       "      <th>5153</th>\n",
       "      <td>Request to send a notice to society to get it ...</td>\n",
       "      <td>3</td>\n",
       "    </tr>\n",
       "    <tr>\n",
       "      <th>2038</th>\n",
       "      <td>CHOKED DRAINAGE LINE</td>\n",
       "      <td>1</td>\n",
       "    </tr>\n",
       "    <tr>\n",
       "      <th>6381</th>\n",
       "      <td>Stray Dogs Nuisance</td>\n",
       "      <td>4</td>\n",
       "    </tr>\n",
       "    <tr>\n",
       "      <th>4749</th>\n",
       "      <td>Pls have this tree uprooted b4 it falls &amp; kill...</td>\n",
       "      <td>3</td>\n",
       "    </tr>\n",
       "    <tr>\n",
       "      <th>11147</th>\n",
       "      <td>DENGUE CASE TO   YEARS OLD BOY DUE TO  1. OPEN...</td>\n",
       "      <td>7</td>\n",
       "    </tr>\n",
       "    <tr>\n",
       "      <th>...</th>\n",
       "      <td>...</td>\n",
       "      <td>...</td>\n",
       "    </tr>\n",
       "    <tr>\n",
       "      <th>7353</th>\n",
       "      <td>After 7:3 pm footpath outside DMart Baner Road...</td>\n",
       "      <td>5</td>\n",
       "    </tr>\n",
       "    <tr>\n",
       "      <th>879</th>\n",
       "      <td>Hi</td>\n",
       "      <td>0</td>\n",
       "    </tr>\n",
       "    <tr>\n",
       "      <th>8878</th>\n",
       "      <td>last 3 days WATER from corporation has not rea...</td>\n",
       "      <td>6</td>\n",
       "    </tr>\n",
       "    <tr>\n",
       "      <th>9727</th>\n",
       "      <td>No water at all today 3. 1. 1</td>\n",
       "      <td>6</td>\n",
       "    </tr>\n",
       "    <tr>\n",
       "      <th>7559</th>\n",
       "      <td>plz refer complaint no # W 745  dtd 13/ 1/ 17 ...</td>\n",
       "      <td>5</td>\n",
       "    </tr>\n",
       "  </tbody>\n",
       "</table>\n",
       "<p>15400 rows × 2 columns</p>\n",
       "</div>"
      ],
      "text/plain": [
       "                                                    text  label\n",
       "5153   Request to send a notice to society to get it ...      3\n",
       "2038                                CHOKED DRAINAGE LINE      1\n",
       "6381                                 Stray Dogs Nuisance      4\n",
       "4749   Pls have this tree uprooted b4 it falls & kill...      3\n",
       "11147  DENGUE CASE TO   YEARS OLD BOY DUE TO  1. OPEN...      7\n",
       "...                                                  ...    ...\n",
       "7353   After 7:3 pm footpath outside DMart Baner Road...      5\n",
       "879                                                   Hi      0\n",
       "8878   last 3 days WATER from corporation has not rea...      6\n",
       "9727                      No water at all today 3. 1. 1       6\n",
       "7559   plz refer complaint no # W 745  dtd 13/ 1/ 17 ...      5\n",
       "\n",
       "[15400 rows x 2 columns]"
      ]
     },
     "execution_count": 108,
     "metadata": {},
     "output_type": "execute_result"
    }
   ],
   "source": [
    "X"
   ]
  },
  {
   "cell_type": "code",
   "execution_count": 109,
   "metadata": {},
   "outputs": [],
   "source": [
    "import re\n",
    "X['cleaned'] = X['text'].apply(lambda x: \" \".join([stemmer.stem(i) for i in re.sub(\"[^a-zA-Z]\", \" \", x).split() if i not in words]).lower())"
   ]
  },
  {
   "cell_type": "code",
   "execution_count": 110,
   "metadata": {},
   "outputs": [],
   "source": [
    "x = X['cleaned']\n",
    "y = X['label']"
   ]
  },
  {
   "cell_type": "code",
   "execution_count": 111,
   "metadata": {},
   "outputs": [],
   "source": [
    "from sklearn.pipeline import Pipeline\n",
    "from sklearn.metrics import classification_report, confusion_matrix\n",
    "from sklearn.model_selection import train_test_split"
   ]
  },
  {
   "cell_type": "code",
   "execution_count": 112,
   "metadata": {},
   "outputs": [],
   "source": [
    "X_train, X_test, y_train, y_test = train_test_split(x, y, test_size=0.20)"
   ]
  },
  {
   "cell_type": "code",
   "execution_count": 122,
   "metadata": {},
   "outputs": [],
   "source": [
    "from sklearn.feature_selection import SelectKBest, chi2\n",
    "from sklearn.ensemble import RandomForestClassifier\n",
    "from sklearn.naive_bayes import MultinomialNB\n",
    "from sklearn.linear_model import LogisticRegression\n",
    "from sklearn.svm import LinearSVC\n",
    "\n",
    "import pickle"
   ]
  },
  {
   "cell_type": "code",
   "execution_count": 125,
   "metadata": {},
   "outputs": [],
   "source": [
    "models = {\n",
    "            'RandomForest' : RandomForestClassifier(n_estimators=400,n_jobs=4),\n",
    "            'SVC' : LinearSVC(),\n",
    "            'MultinomialNaiveBayes' : MultinomialNB(),\n",
    "            'LogisticRegression' : LogisticRegression(max_iter=200)\n",
    "         }"
   ]
  },
  {
   "cell_type": "code",
   "execution_count": 126,
   "metadata": {},
   "outputs": [],
   "source": [
    "Y_test = np.array(y_test)"
   ]
  },
  {
   "cell_type": "code",
   "execution_count": 133,
   "metadata": {
    "scrolled": false
   },
   "outputs": [
    {
     "name": "stdout",
     "output_type": "stream",
     "text": [
      "RandomForest\n",
      "[[260   3   9   1   0   7   2   0   0   1   0]\n",
      " [  2 212   3   6   0   2  19  27   1  15   6]\n",
      " [  7   3 212   3   0  30   4   5   2   4   1]\n",
      " [  2   0   4 236   1   6   4   9   6   5   2]\n",
      " [  0   1   1   0 291   2   0   2   2   0   0]\n",
      " [  4   3  22   0   1 242   1   5   2  17   2]\n",
      " [  5   3   1   0   1   3 266   1   0  10   4]\n",
      " [  0  22  17   6  17   5   5 155   1   5  35]\n",
      " [  3   0   2   3   2   1   2   0 252   4   0]\n",
      " [  2  19   4   6   0  10   5   8   4 213   3]\n",
      " [  0   0   0   4   4   1   2   9   2   6 227]]\n",
      "              precision    recall  f1-score   support\n",
      "\n",
      "           0       0.91      0.92      0.92       283\n",
      "           1       0.80      0.72      0.76       293\n",
      "           2       0.77      0.78      0.78       271\n",
      "           3       0.89      0.86      0.87       275\n",
      "           4       0.92      0.97      0.94       299\n",
      "           5       0.78      0.81      0.80       299\n",
      "           6       0.86      0.90      0.88       294\n",
      "           7       0.70      0.58      0.63       268\n",
      "           8       0.93      0.94      0.93       269\n",
      "           9       0.76      0.78      0.77       274\n",
      "          10       0.81      0.89      0.85       255\n",
      "\n",
      "    accuracy                           0.83      3080\n",
      "   macro avg       0.83      0.83      0.83      3080\n",
      "weighted avg       0.83      0.83      0.83      3080\n",
      "\n",
      "Accuracy score:  83.31\n",
      "SVC\n",
      "[[268   1   8   1   0   1   1   0   0   3   0]\n",
      " [  4 227   6   3   1   0  11  20   1  16   4]\n",
      " [  3   1 224   4   0  25   2   5   1   6   0]\n",
      " [  1   0   3 248   1   5   0   7   5   2   3]\n",
      " [  2   0   1   0 288   0   0   5   3   0   0]\n",
      " [ 12   2  21   0   1 236   0   5   3  13   6]\n",
      " [  6   2   3   0   0   1 267   2   0  11   2]\n",
      " [  1  22  11   7  15   1   2 163   2   9  35]\n",
      " [  2   0   0   3   1   1   0   1 258   3   0]\n",
      " [  4  16   6   7   0   4   9   3   4 218   3]\n",
      " [  1   0   0   3   2   1   2  13   1   4 228]]\n",
      "              precision    recall  f1-score   support\n",
      "\n",
      "           0       0.88      0.95      0.91       283\n",
      "           1       0.84      0.77      0.80       293\n",
      "           2       0.79      0.83      0.81       271\n",
      "           3       0.90      0.90      0.90       275\n",
      "           4       0.93      0.96      0.95       299\n",
      "           5       0.86      0.79      0.82       299\n",
      "           6       0.91      0.91      0.91       294\n",
      "           7       0.73      0.61      0.66       268\n",
      "           8       0.93      0.96      0.94       269\n",
      "           9       0.76      0.80      0.78       274\n",
      "          10       0.81      0.89      0.85       255\n",
      "\n",
      "    accuracy                           0.85      3080\n",
      "   macro avg       0.85      0.85      0.85      3080\n",
      "weighted avg       0.85      0.85      0.85      3080\n",
      "\n",
      "Accuracy score:  85.23\n",
      "MultinomialNaiveBayes\n",
      "[[266   1   7   0   0   0   1   0   1   0   7]\n",
      " [  4 221   6   2   2   0  10  19   3  18   8]\n",
      " [  9   4 214   0   2  29   2   2   3   5   1]\n",
      " [  4   1   5 232   3   3   4   8   8   4   3]\n",
      " [  0   0   3   0 288   0   1   2   3   0   2]\n",
      " [  3   2  17   0   2 244   4   4   3   5  15]\n",
      " [  5   7   0   0   1   2 263   3   0  11   2]\n",
      " [  0  27  12   8  21   3   1 155   0   8  33]\n",
      " [  2   0   2   6   1   1   0   1 252   4   0]\n",
      " [  3  15   7   2   1   4   6   4   7 221   4]\n",
      " [  0   3   1   3   3   0   4  18   1   2 220]]\n",
      "              precision    recall  f1-score   support\n",
      "\n",
      "           0       0.90      0.94      0.92       283\n",
      "           1       0.79      0.75      0.77       293\n",
      "           2       0.78      0.79      0.79       271\n",
      "           3       0.92      0.84      0.88       275\n",
      "           4       0.89      0.96      0.92       299\n",
      "           5       0.85      0.82      0.83       299\n",
      "           6       0.89      0.89      0.89       294\n",
      "           7       0.72      0.58      0.64       268\n",
      "           8       0.90      0.94      0.92       269\n",
      "           9       0.79      0.81      0.80       274\n",
      "          10       0.75      0.86      0.80       255\n",
      "\n",
      "    accuracy                           0.84      3080\n",
      "   macro avg       0.83      0.84      0.83      3080\n",
      "weighted avg       0.84      0.84      0.83      3080\n",
      "\n",
      "Accuracy score:  83.64\n",
      "LogisticRegression\n",
      "[[258   1  10   0   0   2   1   7   1   3   0]\n",
      " [  3 226   5   1   0   0  12  24   2  17   3]\n",
      " [  4   2 234   1   0  18   2   6   1   3   0]\n",
      " [  2   0   2 240   1   5   1  10   7   6   1]\n",
      " [  0   0   3   0 285   0   0   8   3   0   0]\n",
      " [  1   1  24   0   1 239   0  16   2  10   5]\n",
      " [  6   1   4   1   0   0 264   3   0  13   2]\n",
      " [  0  24  11   8  15   3   1 164   1   8  33]\n",
      " [  1   0   1   3   1   2   0   0 256   5   0]\n",
      " [  4  13   4   5   1   3   6   4   3 228   3]\n",
      " [  0   2   1   2   3   1   2  20   1   3 220]]\n",
      "              precision    recall  f1-score   support\n",
      "\n",
      "           0       0.92      0.91      0.92       283\n",
      "           1       0.84      0.77      0.80       293\n",
      "           2       0.78      0.86      0.82       271\n",
      "           3       0.92      0.87      0.90       275\n",
      "           4       0.93      0.95      0.94       299\n",
      "           5       0.88      0.80      0.84       299\n",
      "           6       0.91      0.90      0.91       294\n",
      "           7       0.63      0.61      0.62       268\n",
      "           8       0.92      0.95      0.94       269\n",
      "           9       0.77      0.83      0.80       274\n",
      "          10       0.82      0.86      0.84       255\n",
      "\n",
      "    accuracy                           0.85      3080\n",
      "   macro avg       0.85      0.85      0.85      3080\n",
      "weighted avg       0.85      0.85      0.85      3080\n",
      "\n",
      "Accuracy score:  84.87\n"
     ]
    }
   ],
   "source": [
    "for model_name in list(models.keys()):\n",
    "    pipeline = Pipeline([('vect', vectorizer),\n",
    "                         ('chi',  SelectKBest(chi2, k=1000)),\n",
    "                         ('clf', models[model_name])])\n",
    "\n",
    "    model = pipeline.fit(X_train, y_train)\n",
    "    with open(f'{model_name}.pickle', 'wb') as f:\n",
    "        pickle.dump(model, f)\n",
    "\n",
    "\n",
    "    print(model_name)\n",
    "    print(confusion_matrix(Y_test, model.predict(X_test)))\n",
    "    print(classification_report(Y_test, model.predict(X_test)))\n",
    "    print(\"Accuracy score: \",\"{:.2f}\".format(model.score(X_test, Y_test) * 100))"
   ]
  },
  {
   "cell_type": "code",
   "execution_count": 128,
   "metadata": {},
   "outputs": [
    {
     "data": {
      "text/plain": [
       "{0: 'Property Tax',\n",
       " 1: 'Drainage',\n",
       " 2: 'Building Permission',\n",
       " 3: 'Garden',\n",
       " 4: 'Stray Dogs',\n",
       " 5: 'Encroachment',\n",
       " 6: 'Water Supply',\n",
       " 7: 'Health',\n",
       " 8: 'Electrical',\n",
       " 9: 'Road',\n",
       " 10: 'Garbage'}"
      ]
     },
     "execution_count": 128,
     "metadata": {},
     "output_type": "execute_result"
    }
   ],
   "source": [
    "mapper"
   ]
  },
  {
   "cell_type": "code",
   "execution_count": null,
   "metadata": {},
   "outputs": [],
   "source": []
  }
 ],
 "metadata": {
  "kernelspec": {
   "display_name": "Python 3",
   "language": "python",
   "name": "python3"
  },
  "language_info": {
   "codemirror_mode": {
    "name": "ipython",
    "version": 3
   },
   "file_extension": ".py",
   "mimetype": "text/x-python",
   "name": "python",
   "nbconvert_exporter": "python",
   "pygments_lexer": "ipython3",
   "version": "3.8.5"
  }
 },
 "nbformat": 4,
 "nbformat_minor": 4
}
